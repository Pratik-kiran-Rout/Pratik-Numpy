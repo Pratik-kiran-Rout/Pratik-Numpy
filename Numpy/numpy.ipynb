{
 "cells": [
  {
   "cell_type": "markdown",
   "id": "f21e2f0d-19f6-4b7e-8eb0-74f2312ddb5e",
   "metadata": {},
   "source": [
    "# Welcome to Numpy "
   ]
  },
  {
   "cell_type": "code",
   "execution_count": 1,
   "id": "120658c7-8875-4ec6-a37b-514131fc54a7",
   "metadata": {},
   "outputs": [],
   "source": [
    "import numpy as np"
   ]
  },
  {
   "cell_type": "code",
   "execution_count": 2,
   "id": "4f34a66f-1480-4c1d-a82b-c78f6cc43689",
   "metadata": {},
   "outputs": [],
   "source": [
    "myarr=np.array([3,6,44,3,4,])"
   ]
  },
  {
   "cell_type": "code",
   "execution_count": 3,
   "id": "ebdd9a0c-a5f3-4e05-b3fa-4413466b1a92",
   "metadata": {},
   "outputs": [
    {
     "data": {
      "text/plain": [
       "array([ 3,  6, 44,  3,  4])"
      ]
     },
     "execution_count": 3,
     "metadata": {},
     "output_type": "execute_result"
    }
   ],
   "source": [
    "myarr\n",
    "#print(myarr)"
   ]
  },
  {
   "cell_type": "code",
   "execution_count": 4,
   "id": "f3be2a50-632c-424d-a851-dd6aeaf2c794",
   "metadata": {},
   "outputs": [],
   "source": [
    "myarr=np.array([3,6,44,3,4,],np.int8)"
   ]
  },
  {
   "cell_type": "code",
   "execution_count": 5,
   "id": "c394b9dc-9d70-4039-86a5-be3897850893",
   "metadata": {},
   "outputs": [
    {
     "data": {
      "text/plain": [
       "array([ 3,  6, 44,  3,  4], dtype=int8)"
      ]
     },
     "execution_count": 5,
     "metadata": {},
     "output_type": "execute_result"
    }
   ],
   "source": [
    "myarr"
   ]
  },
  {
   "cell_type": "code",
   "execution_count": 6,
   "id": "80864e36-6967-4fb5-8c46-c79819f87fa1",
   "metadata": {},
   "outputs": [
    {
     "name": "stdout",
     "output_type": "stream",
     "text": [
      "[ 3  6 44  3  4]\n"
     ]
    }
   ],
   "source": [
    "print(myarr)"
   ]
  },
  {
   "cell_type": "code",
   "execution_count": 7,
   "id": "e12fd227-f12e-49be-99ae-58816f78e839",
   "metadata": {},
   "outputs": [
    {
     "data": {
      "text/plain": [
       "np.int8(44)"
      ]
     },
     "execution_count": 7,
     "metadata": {},
     "output_type": "execute_result"
    }
   ],
   "source": [
    "myarr[2]"
   ]
  },
  {
   "cell_type": "code",
   "execution_count": 8,
   "id": "8b842f74-bd97-4ba5-8ba4-976e5e3c50bc",
   "metadata": {},
   "outputs": [
    {
     "name": "stdout",
     "output_type": "stream",
     "text": [
      "44\n"
     ]
    }
   ],
   "source": [
    "print(myarr[2])"
   ]
  },
  {
   "cell_type": "code",
   "execution_count": 9,
   "id": "5cfe05a8-3fd3-45c8-ae8b-af31b6660b85",
   "metadata": {},
   "outputs": [],
   "source": [
    "myarr2=np.array([[3,34,66,67,223,334,33]],np.int64)"
   ]
  },
  {
   "cell_type": "code",
   "execution_count": 10,
   "id": "3c7df3ca-102f-499f-8682-a1765721cef3",
   "metadata": {},
   "outputs": [
    {
     "data": {
      "text/plain": [
       "array([[  3,  34,  66,  67, 223, 334,  33]])"
      ]
     },
     "execution_count": 10,
     "metadata": {},
     "output_type": "execute_result"
    }
   ],
   "source": [
    "myarr2"
   ]
  },
  {
   "cell_type": "code",
   "execution_count": 11,
   "id": "eecc8ff7-d083-42b7-961e-0a1cb2da4a6e",
   "metadata": {},
   "outputs": [
    {
     "data": {
      "text/plain": [
       "numpy.ndarray"
      ]
     },
     "execution_count": 11,
     "metadata": {},
     "output_type": "execute_result"
    }
   ],
   "source": [
    "type(myarr2)"
   ]
  },
  {
   "cell_type": "code",
   "execution_count": 12,
   "id": "38ca4c14-970b-4e1a-bd74-a483afd6f516",
   "metadata": {},
   "outputs": [
    {
     "data": {
      "text/plain": [
       "dtype('int64')"
      ]
     },
     "execution_count": 12,
     "metadata": {},
     "output_type": "execute_result"
    }
   ],
   "source": [
    "myarr2.dtype"
   ]
  },
  {
   "cell_type": "code",
   "execution_count": 13,
   "id": "01773c8f-07d5-426d-8c51-97b4fbe2db51",
   "metadata": {},
   "outputs": [
    {
     "data": {
      "text/plain": [
       "np.int64(67)"
      ]
     },
     "execution_count": 13,
     "metadata": {},
     "output_type": "execute_result"
    }
   ],
   "source": [
    "myarr2[0][3]"
   ]
  },
  {
   "cell_type": "code",
   "execution_count": 14,
   "id": "69d46623-6fb4-488c-ae9d-d592fc5d2a1c",
   "metadata": {},
   "outputs": [
    {
     "name": "stdout",
     "output_type": "stream",
     "text": [
      "67\n"
     ]
    }
   ],
   "source": [
    "print(myarr2[0][3])"
   ]
  },
  {
   "cell_type": "code",
   "execution_count": 15,
   "id": "9fcf6ffe-9efa-4f6c-962c-0a5b81796cae",
   "metadata": {},
   "outputs": [
    {
     "data": {
      "text/plain": [
       "dtype('int64')"
      ]
     },
     "execution_count": 15,
     "metadata": {},
     "output_type": "execute_result"
    }
   ],
   "source": [
    "myarr2.dtype"
   ]
  },
  {
   "cell_type": "code",
   "execution_count": 16,
   "id": "32a36ec8-bffc-427b-9496-6d2b99473512",
   "metadata": {},
   "outputs": [],
   "source": [
    "myarr2[0,1]=1000"
   ]
  },
  {
   "cell_type": "code",
   "execution_count": 17,
   "id": "724b3a05-a9ad-43b2-be9c-4318c7721d4d",
   "metadata": {},
   "outputs": [
    {
     "data": {
      "text/plain": [
       "array([[   3, 1000,   66,   67,  223,  334,   33]])"
      ]
     },
     "execution_count": 17,
     "metadata": {},
     "output_type": "execute_result"
    }
   ],
   "source": [
    "myarr2"
   ]
  },
  {
   "cell_type": "markdown",
   "id": "dc42ee75-79b0-4af1-a59f-2e21f25c5167",
   "metadata": {},
   "source": [
    "***Converting Python sequences to NumPy arrays***"
   ]
  },
  {
   "cell_type": "code",
   "execution_count": 18,
   "id": "7ba7b8ff-dae8-4e5b-b0ad-0038cf4d9ed8",
   "metadata": {},
   "outputs": [],
   "source": [
    "a1D = np.array([1, 2, 3, 4])\n",
    "a2D = np.array([[1, 2], [3, 4]])\n",
    "a3D = np.array([[[1, 2], [3, 4]], [[5, 6], [7, 8]]])"
   ]
  },
  {
   "cell_type": "code",
   "execution_count": 30,
   "id": "f408a0ae-dc06-4603-8fce-549a65ed6ace",
   "metadata": {},
   "outputs": [
    {
     "data": {
      "text/plain": [
       "array([1, 2, 3, 4])"
      ]
     },
     "execution_count": 30,
     "metadata": {},
     "output_type": "execute_result"
    }
   ],
   "source": [
    "a1D"
   ]
  },
  {
   "cell_type": "code",
   "execution_count": 31,
   "id": "4c51fa2b-5156-49be-9075-3f0585f157d2",
   "metadata": {},
   "outputs": [
    {
     "data": {
      "text/plain": [
       "array([[1, 2],\n",
       "       [3, 4]])"
      ]
     },
     "execution_count": 31,
     "metadata": {},
     "output_type": "execute_result"
    }
   ],
   "source": [
    "a2D"
   ]
  },
  {
   "cell_type": "code",
   "execution_count": 32,
   "id": "69795759-894f-4203-a8de-4c9748b0cc88",
   "metadata": {},
   "outputs": [
    {
     "data": {
      "text/plain": [
       "array([[[1, 2],\n",
       "        [3, 4]],\n",
       "\n",
       "       [[5, 6],\n",
       "        [7, 8]]])"
      ]
     },
     "execution_count": 32,
     "metadata": {},
     "output_type": "execute_result"
    }
   ],
   "source": [
    "a3D"
   ]
  },
  {
   "cell_type": "code",
   "execution_count": 51,
   "id": "f4a51764-7752-494a-ae0f-38973f3fcb45",
   "metadata": {},
   "outputs": [
    {
     "name": "stdout",
     "output_type": "stream",
     "text": [
      "[1 2 3 4]  \n",
      "\n",
      "[[12 11 10]\n",
      " [ 1  2  3]]   \n",
      "\n",
      "[[[1 2 3 4]\n",
      "  [4 3 2 1]]\n",
      "\n",
      " [[1 4 2 3]\n",
      "  [2 3 4 5]]]   \n",
      "\n",
      "int8\n",
      "int32\n",
      "int64\n"
     ]
    }
   ],
   "source": [
    "a1d =np.array([1,2,3,4],np.int8)\n",
    "a2d=np.array([[12,11,10],[1,2,3]],np.int32)\n",
    "a3d=np.array([[[1,2,3,4],[4,3,2,1]],[[1,4,2,3],[2,3,4,5]]],np.int64)\n",
    "print(a1d,\" \\n\")\n",
    "print(a2d,\"  \\n\")\n",
    "print(a3d,\"  \\n\")\n",
    "print(a1d.dtype)\n",
    "print(a2d.dtype)\n",
    "print(a3d.dtype)"
   ]
  },
  {
   "cell_type": "markdown",
   "id": "c6b52616-486c-4432-a8b0-4aa7a52c0418",
   "metadata": {},
   "source": [
    "# Array Creation method 2 Conversion from other Python structures"
   ]
  },
  {
   "cell_type": "code",
   "execution_count": 52,
   "id": "68fca9b8-fb22-467b-bddb-3190d2b34ba2",
   "metadata": {},
   "outputs": [],
   "source": [
    "listarr = np.array([[1, 2], [3, 4], [5, 6], [7, 8]], np.int64)"
   ]
  },
  {
   "cell_type": "code",
   "execution_count": 53,
   "id": "f7b13cb2-8610-42ae-a43f-ef999c24ada1",
   "metadata": {},
   "outputs": [
    {
     "data": {
      "text/plain": [
       "dtype('int64')"
      ]
     },
     "execution_count": 53,
     "metadata": {},
     "output_type": "execute_result"
    }
   ],
   "source": [
    "listarr.dtype"
   ]
  },
  {
   "cell_type": "code",
   "execution_count": 54,
   "id": "c590ba05-6675-4478-bc57-7b375bc9b176",
   "metadata": {},
   "outputs": [
    {
     "data": {
      "text/plain": [
       "array([[1, 2],\n",
       "       [3, 4],\n",
       "       [5, 6],\n",
       "       [7, 8]])"
      ]
     },
     "execution_count": 54,
     "metadata": {},
     "output_type": "execute_result"
    }
   ],
   "source": [
    "listarr"
   ]
  },
  {
   "cell_type": "code",
   "execution_count": 45,
   "id": "0910b252-88b8-45c1-a8c9-c20d04dc7d09",
   "metadata": {},
   "outputs": [
    {
     "data": {
      "text/plain": [
       "np.int64(2)"
      ]
     },
     "execution_count": 45,
     "metadata": {},
     "output_type": "execute_result"
    }
   ],
   "source": [
    "listarr[0][0][1]"
   ]
  },
  {
   "cell_type": "code",
   "execution_count": 55,
   "id": "5e0b64cc-5597-425d-9d7d-1cfaf2cfe450",
   "metadata": {},
   "outputs": [
    {
     "data": {
      "text/plain": [
       "(4, 2)"
      ]
     },
     "execution_count": 55,
     "metadata": {},
     "output_type": "execute_result"
    }
   ],
   "source": [
    "listarr.shape"
   ]
  },
  {
   "cell_type": "code",
   "execution_count": 56,
   "id": "2bbf2e6a-b099-4895-b140-19274e3b1852",
   "metadata": {},
   "outputs": [
    {
     "data": {
      "text/plain": [
       "8"
      ]
     },
     "execution_count": 56,
     "metadata": {},
     "output_type": "execute_result"
    }
   ],
   "source": [
    "listarr.size"
   ]
  },
  {
   "cell_type": "code",
   "execution_count": 59,
   "id": "70bf0a8b-9474-49f6-8823-4d2049227794",
   "metadata": {},
   "outputs": [
    {
     "name": "stdout",
     "output_type": "stream",
     "text": [
      "{1, 2, 3}\n"
     ]
    },
    {
     "data": {
      "text/plain": [
       "dtype('O')"
      ]
     },
     "execution_count": 59,
     "metadata": {},
     "output_type": "execute_result"
    }
   ],
   "source": [
    "dic=np.array({1,2,3})\n",
    "print(dic)\n",
    "dic.dtype\n",
    "#problem is it will give object type"
   ]
  },
  {
   "cell_type": "markdown",
   "id": "8494cf7b-9f0a-4ff4-8f22-52877e64e045",
   "metadata": {},
   "source": [
    "# Intrinsic NumPy array creation functions (e.g. arange, ones, zeros)"
   ]
  },
  {
   "cell_type": "code",
   "execution_count": 61,
   "id": "0831a79e-2a0e-4383-8a3c-fa0e7452b526",
   "metadata": {},
   "outputs": [],
   "source": [
    "zeroarr = np.zeros((2,4))"
   ]
  },
  {
   "cell_type": "code",
   "execution_count": 62,
   "id": "761f7ae8-c549-4513-a975-8e65cf89f4e5",
   "metadata": {},
   "outputs": [
    {
     "data": {
      "text/plain": [
       "array([[0., 0., 0., 0.],\n",
       "       [0., 0., 0., 0.]])"
      ]
     },
     "execution_count": 62,
     "metadata": {},
     "output_type": "execute_result"
    }
   ],
   "source": [
    "zeroarr"
   ]
  },
  {
   "cell_type": "code",
   "execution_count": 63,
   "id": "b913361d-2c14-4bbb-bafe-2100eaf6d85e",
   "metadata": {},
   "outputs": [
    {
     "data": {
      "text/plain": [
       "dtype('float64')"
      ]
     },
     "execution_count": 63,
     "metadata": {},
     "output_type": "execute_result"
    }
   ],
   "source": [
    "zeroarr.dtype"
   ]
  },
  {
   "cell_type": "code",
   "execution_count": 64,
   "id": "48850ce8-86ec-4d9a-9f4f-6ce4cbb29665",
   "metadata": {},
   "outputs": [
    {
     "data": {
      "text/plain": [
       "8"
      ]
     },
     "execution_count": 64,
     "metadata": {},
     "output_type": "execute_result"
    }
   ],
   "source": [
    "zeroarr.size"
   ]
  },
  {
   "cell_type": "code",
   "execution_count": 65,
   "id": "460d98bd-1f46-46da-a19c-89d906627a58",
   "metadata": {},
   "outputs": [
    {
     "data": {
      "text/plain": [
       "(2, 4)"
      ]
     },
     "execution_count": 65,
     "metadata": {},
     "output_type": "execute_result"
    }
   ],
   "source": [
    "zeroarr.shape"
   ]
  },
  {
   "cell_type": "markdown",
   "id": "cd734427-2d48-4071-b85f-d9a672d1b043",
   "metadata": {},
   "source": [
    "**arange**"
   ]
  },
  {
   "cell_type": "code",
   "execution_count": 66,
   "id": "cede2b85-a11b-4512-9a71-17712e833130",
   "metadata": {},
   "outputs": [],
   "source": [
    "arr = np.arange(2,30)"
   ]
  },
  {
   "cell_type": "code",
   "execution_count": 68,
   "id": "a2a2d3f7-9b82-4bdf-9cbe-ade2a74e5716",
   "metadata": {},
   "outputs": [
    {
     "data": {
      "text/plain": [
       "array([ 2,  3,  4,  5,  6,  7,  8,  9, 10, 11, 12, 13, 14, 15, 16, 17, 18,\n",
       "       19, 20, 21, 22, 23, 24, 25, 26, 27, 28, 29])"
      ]
     },
     "execution_count": 68,
     "metadata": {},
     "output_type": "execute_result"
    }
   ],
   "source": [
    "arr\n",
    "#it will give 1d array"
   ]
  },
  {
   "cell_type": "markdown",
   "id": "9828724e-d47a-4560-b997-5d94ee76aeaf",
   "metadata": {},
   "source": [
    "**linspace**"
   ]
  },
  {
   "cell_type": "code",
   "execution_count": 72,
   "id": "a0daaf68-2436-48a5-b866-64ad7d573627",
   "metadata": {},
   "outputs": [],
   "source": [
    "arrlin=np.linspace(1,10,5)\n",
    "                #( start , end , how many elements )\n",
    "# it will give equally spaced 5 num"
   ]
  },
  {
   "cell_type": "code",
   "execution_count": 73,
   "id": "6d033a2d-60f7-49f7-887a-a7f4debbaa11",
   "metadata": {},
   "outputs": [
    {
     "data": {
      "text/plain": [
       "array([ 1.  ,  3.25,  5.5 ,  7.75, 10.  ])"
      ]
     },
     "execution_count": 73,
     "metadata": {},
     "output_type": "execute_result"
    }
   ],
   "source": [
    "arrlin"
   ]
  },
  {
   "cell_type": "markdown",
   "id": "ee246c06-4aeb-42ac-995d-f98583f20daa",
   "metadata": {},
   "source": [
    "**empty**"
   ]
  },
  {
   "cell_type": "code",
   "execution_count": 80,
   "id": "3b4e841f-31f4-403d-9464-7f8954ee609e",
   "metadata": {},
   "outputs": [],
   "source": [
    "#it will give zero array\n",
    "emp=np.empty((2,7))\n",
    "            #(no of row , no of col)\n",
    "#print(emp)"
   ]
  },
  {
   "cell_type": "markdown",
   "id": "b8806913-5404-4d7c-b62e-b1c1aa667021",
   "metadata": {},
   "source": [
    "emp"
   ]
  },
  {
   "cell_type": "markdown",
   "id": "b247ff60-7541-4593-94a3-cee4dc118742",
   "metadata": {},
   "source": [
    "**empty_like**"
   ]
  },
  {
   "cell_type": "code",
   "execution_count": 85,
   "id": "bb324c2c-fc78-4972-b275-15be3c683496",
   "metadata": {},
   "outputs": [
    {
     "data": {
      "text/plain": [
       "array([ 1.  ,  3.25,  5.5 ,  7.75, 10.  ])"
      ]
     },
     "execution_count": 85,
     "metadata": {},
     "output_type": "execute_result"
    }
   ],
   "source": [
    "emp_lik=np.empty_like(arrlin)\n",
    "emp_lik \n",
    "#use for manupulation"
   ]
  },
  {
   "cell_type": "markdown",
   "id": "d4a46fca-495b-47bf-bbc3-d1fa0ec03380",
   "metadata": {},
   "source": [
    "**Identity matrix**"
   ]
  },
  {
   "cell_type": "code",
   "execution_count": 88,
   "id": "27d7d79a-4574-4132-a013-cde62017a79d",
   "metadata": {},
   "outputs": [
    {
     "data": {
      "text/plain": [
       "array([[1., 0., 0., 0., 0., 0., 0., 0., 0., 0.],\n",
       "       [0., 1., 0., 0., 0., 0., 0., 0., 0., 0.],\n",
       "       [0., 0., 1., 0., 0., 0., 0., 0., 0., 0.],\n",
       "       [0., 0., 0., 1., 0., 0., 0., 0., 0., 0.],\n",
       "       [0., 0., 0., 0., 1., 0., 0., 0., 0., 0.],\n",
       "       [0., 0., 0., 0., 0., 1., 0., 0., 0., 0.],\n",
       "       [0., 0., 0., 0., 0., 0., 1., 0., 0., 0.],\n",
       "       [0., 0., 0., 0., 0., 0., 0., 1., 0., 0.],\n",
       "       [0., 0., 0., 0., 0., 0., 0., 0., 1., 0.],\n",
       "       [0., 0., 0., 0., 0., 0., 0., 0., 0., 1.]])"
      ]
     },
     "execution_count": 88,
     "metadata": {},
     "output_type": "execute_result"
    }
   ],
   "source": [
    "ide=np.identity(10)\n",
    "ide\n",
    "#it will give 10x10 identity matrix"
   ]
  },
  {
   "cell_type": "code",
   "execution_count": 89,
   "id": "96aa4a33-2b9c-4460-a94d-3e6e711103dd",
   "metadata": {},
   "outputs": [
    {
     "data": {
      "text/plain": [
       "(10, 10)"
      ]
     },
     "execution_count": 89,
     "metadata": {},
     "output_type": "execute_result"
    }
   ],
   "source": [
    "ide.shape"
   ]
  },
  {
   "cell_type": "markdown",
   "id": "664f0c23-d03d-41b1-934b-cdbc2defb565",
   "metadata": {},
   "source": [
    "**Reshape (reshape)**"
   ]
  },
  {
   "cell_type": "code",
   "execution_count": 91,
   "id": "9852c859-7966-47a2-9a40-a0f36c0f85e9",
   "metadata": {},
   "outputs": [],
   "source": [
    "arr= np.arange(99)"
   ]
  },
  {
   "cell_type": "code",
   "execution_count": 92,
   "id": "50da1c9e-e30a-4ff8-9373-e869cbea09fa",
   "metadata": {},
   "outputs": [
    {
     "data": {
      "text/plain": [
       "array([ 0,  1,  2,  3,  4,  5,  6,  7,  8,  9, 10, 11, 12, 13, 14, 15, 16,\n",
       "       17, 18, 19, 20, 21, 22, 23, 24, 25, 26, 27, 28, 29, 30, 31, 32, 33,\n",
       "       34, 35, 36, 37, 38, 39, 40, 41, 42, 43, 44, 45, 46, 47, 48, 49, 50,\n",
       "       51, 52, 53, 54, 55, 56, 57, 58, 59, 60, 61, 62, 63, 64, 65, 66, 67,\n",
       "       68, 69, 70, 71, 72, 73, 74, 75, 76, 77, 78, 79, 80, 81, 82, 83, 84,\n",
       "       85, 86, 87, 88, 89, 90, 91, 92, 93, 94, 95, 96, 97, 98])"
      ]
     },
     "execution_count": 92,
     "metadata": {},
     "output_type": "execute_result"
    }
   ],
   "source": [
    "arr"
   ]
  },
  {
   "cell_type": "code",
   "execution_count": 95,
   "id": "04de8cc2-d1f8-4c83-ba9d-46a754b3a962",
   "metadata": {},
   "outputs": [
    {
     "data": {
      "text/plain": [
       "array([[ 0,  1,  2,  3,  4,  5,  6,  7,  8,  9, 10, 11, 12, 13, 14, 15,\n",
       "        16, 17, 18, 19, 20, 21, 22, 23, 24, 25, 26, 27, 28, 29, 30, 31,\n",
       "        32],\n",
       "       [33, 34, 35, 36, 37, 38, 39, 40, 41, 42, 43, 44, 45, 46, 47, 48,\n",
       "        49, 50, 51, 52, 53, 54, 55, 56, 57, 58, 59, 60, 61, 62, 63, 64,\n",
       "        65],\n",
       "       [66, 67, 68, 69, 70, 71, 72, 73, 74, 75, 76, 77, 78, 79, 80, 81,\n",
       "        82, 83, 84, 85, 86, 87, 88, 89, 90, 91, 92, 93, 94, 95, 96, 97,\n",
       "        98]])"
      ]
     },
     "execution_count": 95,
     "metadata": {},
     "output_type": "execute_result"
    }
   ],
   "source": [
    "arr=arr.reshape(3,33)\n",
    "#it will give 3 row and 33 each one row \n",
    "# but (2,33) not possible blc elemets is 99\n",
    "arr"
   ]
  },
  {
   "cell_type": "markdown",
   "id": "31059531-6a59-445f-a527-8e0742575a35",
   "metadata": {},
   "source": [
    "**Ravel (ravel)**"
   ]
  },
  {
   "cell_type": "code",
   "execution_count": 98,
   "id": "68001ec6-aefa-409e-bd0f-7b2511292787",
   "metadata": {},
   "outputs": [
    {
     "data": {
      "text/plain": [
       "array([ 0,  1,  2,  3,  4,  5,  6,  7,  8,  9, 10, 11, 12, 13, 14, 15, 16,\n",
       "       17, 18, 19, 20, 21, 22, 23, 24, 25, 26, 27, 28, 29, 30, 31, 32, 33,\n",
       "       34, 35, 36, 37, 38, 39, 40, 41, 42, 43, 44, 45, 46, 47, 48, 49, 50,\n",
       "       51, 52, 53, 54, 55, 56, 57, 58, 59, 60, 61, 62, 63, 64, 65, 66, 67,\n",
       "       68, 69, 70, 71, 72, 73, 74, 75, 76, 77, 78, 79, 80, 81, 82, 83, 84,\n",
       "       85, 86, 87, 88, 89, 90, 91, 92, 93, 94, 95, 96, 97, 98])"
      ]
     },
     "execution_count": 98,
     "metadata": {},
     "output_type": "execute_result"
    }
   ],
   "source": [
    "arr= arr.ravel()\n",
    "arr\n",
    "#it will covert in to normal 1D"
   ]
  },
  {
   "cell_type": "markdown",
   "id": "4246222a-5fec-4225-88cf-497cd600d881",
   "metadata": {},
   "source": [
    "# Axis in array"
   ]
  },
  {
   "cell_type": "code",
   "execution_count": 100,
   "id": "58a830bd-ef21-4736-ae37-ee16eb6be20a",
   "metadata": {},
   "outputs": [],
   "source": [
    "arr=np.array([[1,2,3],[4,5,6],[7,8,9]])"
   ]
  },
  {
   "cell_type": "code",
   "execution_count": 101,
   "id": "2c515815-9325-40af-ba3c-4753528b49bb",
   "metadata": {},
   "outputs": [
    {
     "data": {
      "text/plain": [
       "array([[1, 2, 3],\n",
       "       [4, 5, 6],\n",
       "       [7, 8, 9]])"
      ]
     },
     "execution_count": 101,
     "metadata": {},
     "output_type": "execute_result"
    }
   ],
   "source": [
    "arr"
   ]
  },
  {
   "cell_type": "markdown",
   "id": "fdb04bf8-173b-482b-8210-01492a8522f3",
   "metadata": {},
   "source": [
    "**SUM**"
   ]
  },
  {
   "cell_type": "code",
   "execution_count": 103,
   "id": "bc953963-8e54-46e0-bc53-5842c8060662",
   "metadata": {},
   "outputs": [
    {
     "data": {
      "text/plain": [
       "array([12, 15, 18])"
      ]
     },
     "execution_count": 103,
     "metadata": {},
     "output_type": "execute_result"
    }
   ],
   "source": [
    "arr.sum(axis=0)\n",
    "#it will add columns wise 1+4+7 , 2+5+8 ,... "
   ]
  },
  {
   "cell_type": "code",
   "execution_count": 106,
   "id": "33e24210-897b-46dc-987a-1354dc0ed62a",
   "metadata": {},
   "outputs": [
    {
     "data": {
      "text/plain": [
       "array([ 6, 15, 24])"
      ]
     },
     "execution_count": 106,
     "metadata": {},
     "output_type": "execute_result"
    }
   ],
   "source": [
    "#BUT\n",
    "arr.sum(axis=1)\n",
    "#add in rows wise"
   ]
  },
  {
   "cell_type": "markdown",
   "id": "ab47188b-c78a-4ffb-a156-bef16590c543",
   "metadata": {},
   "source": [
    "**Transpose(T)**"
   ]
  },
  {
   "cell_type": "code",
   "execution_count": 110,
   "id": "7145e7ab-36d0-417f-9a5a-7300b476a175",
   "metadata": {},
   "outputs": [
    {
     "data": {
      "text/plain": [
       "array([[1, 4, 7],\n",
       "       [2, 5, 8],\n",
       "       [3, 6, 9]])"
      ]
     },
     "execution_count": 110,
     "metadata": {},
     "output_type": "execute_result"
    }
   ],
   "source": [
    "arr.T"
   ]
  },
  {
   "cell_type": "markdown",
   "id": "88775eb9-2aab-47ab-a219-9ac4ec84fd8e",
   "metadata": {},
   "source": [
    "**.flat (Used for iteration in an array)**"
   ]
  },
  {
   "cell_type": "code",
   "execution_count": 111,
   "id": "04857676-c362-4334-ad53-3c3e8d3a3452",
   "metadata": {},
   "outputs": [
    {
     "data": {
      "text/plain": [
       "array([[1, 2, 3],\n",
       "       [4, 5, 6],\n",
       "       [7, 8, 9]])"
      ]
     },
     "execution_count": 111,
     "metadata": {},
     "output_type": "execute_result"
    }
   ],
   "source": [
    "arr"
   ]
  },
  {
   "cell_type": "code",
   "execution_count": 112,
   "id": "1d601721-c25f-4d39-8c81-77ea2713fe31",
   "metadata": {},
   "outputs": [
    {
     "data": {
      "text/plain": [
       "<numpy.flatiter at 0x1f9d7254300>"
      ]
     },
     "execution_count": 112,
     "metadata": {},
     "output_type": "execute_result"
    }
   ],
   "source": [
    "arr.flat"
   ]
  },
  {
   "cell_type": "code",
   "execution_count": 113,
   "id": "4a768068-e9d6-4b2a-8fa2-5b7d3243bed9",
   "metadata": {},
   "outputs": [
    {
     "name": "stdout",
     "output_type": "stream",
     "text": [
      "1\n",
      "2\n",
      "3\n",
      "4\n",
      "5\n",
      "6\n",
      "7\n",
      "8\n",
      "9\n"
     ]
    }
   ],
   "source": [
    "for i in arr.flat:\n",
    "    print(i)"
   ]
  },
  {
   "cell_type": "markdown",
   "id": "45fef8b4-1408-4498-93b7-a33bbbe52033",
   "metadata": {},
   "source": [
    "**num of dimention**"
   ]
  },
  {
   "cell_type": "code",
   "execution_count": 115,
   "id": "c36914ca-215e-4844-9917-547f70f86271",
   "metadata": {},
   "outputs": [
    {
     "data": {
      "text/plain": [
       "2"
      ]
     },
     "execution_count": 115,
     "metadata": {},
     "output_type": "execute_result"
    }
   ],
   "source": [
    "arr.ndim\n",
    "#for 2d"
   ]
  },
  {
   "cell_type": "code",
   "execution_count": 116,
   "id": "660a9eac-7cb4-4ef7-aebd-02bf2e605420",
   "metadata": {},
   "outputs": [
    {
     "data": {
      "text/plain": [
       "9"
      ]
     },
     "execution_count": 116,
     "metadata": {},
     "output_type": "execute_result"
    }
   ],
   "source": [
    "arr.size"
   ]
  },
  {
   "cell_type": "code",
   "execution_count": 118,
   "id": "b17e7104-e503-42fa-b693-0588c2da3de9",
   "metadata": {},
   "outputs": [
    {
     "data": {
      "text/plain": [
       "72"
      ]
     },
     "execution_count": 118,
     "metadata": {},
     "output_type": "execute_result"
    }
   ],
   "source": [
    "arr.nbytes\n",
    "#total bytes consumed\\"
   ]
  },
  {
   "cell_type": "markdown",
   "id": "2e3ca004-a0e1-4f28-8a4d-c427c708e951",
   "metadata": {},
   "source": [
    "**Max value index (.argmax)**"
   ]
  },
  {
   "cell_type": "code",
   "execution_count": 120,
   "id": "8993038e-b7a2-417a-a4a7-a2d962008f8c",
   "metadata": {},
   "outputs": [
    {
     "data": {
      "text/plain": [
       "array([   1,    3,    5,   22,   45, 4444,   99])"
      ]
     },
     "execution_count": 120,
     "metadata": {},
     "output_type": "execute_result"
    }
   ],
   "source": [
    "one=np.array([1,3,5,22,45,4444,99])\n",
    "one"
   ]
  },
  {
   "cell_type": "code",
   "execution_count": 122,
   "id": "44af4cd9-5d4c-4690-a65e-689122ffa58e",
   "metadata": {},
   "outputs": [
    {
     "data": {
      "text/plain": [
       "np.int64(5)"
      ]
     },
     "execution_count": 122,
     "metadata": {},
     "output_type": "execute_result"
    }
   ],
   "source": [
    "one.argmax()\n",
    "#index 5 "
   ]
  },
  {
   "cell_type": "markdown",
   "id": "1c44a228-b438-40cc-834b-310eb74489af",
   "metadata": {},
   "source": [
    "**.argsort()**"
   ]
  },
  {
   "cell_type": "code",
   "execution_count": 125,
   "id": "2e61f1ec-5cf9-4f3e-ad39-04f5c575535d",
   "metadata": {},
   "outputs": [
    {
     "data": {
      "text/plain": [
       "array([0, 1, 2, 3, 4, 6, 5])"
      ]
     },
     "execution_count": 125,
     "metadata": {},
     "output_type": "execute_result"
    }
   ],
   "source": [
    "# sorted array index \n",
    "one.argsort()"
   ]
  },
  {
   "cell_type": "code",
   "execution_count": 127,
   "id": "e33e3ac8-2116-49af-930b-4d3466138c26",
   "metadata": {},
   "outputs": [
    {
     "data": {
      "text/plain": [
       "array([[1, 2, 3],\n",
       "       [4, 5, 6],\n",
       "       [7, 8, 9]])"
      ]
     },
     "execution_count": 127,
     "metadata": {},
     "output_type": "execute_result"
    }
   ],
   "source": [
    "#for 2d array\n",
    "arr"
   ]
  },
  {
   "cell_type": "code",
   "execution_count": 128,
   "id": "92f69be0-0ed9-40ed-9e4e-1ca2fe79607b",
   "metadata": {},
   "outputs": [
    {
     "data": {
      "text/plain": [
       "array([[0, 1, 2],\n",
       "       [0, 1, 2],\n",
       "       [0, 1, 2]])"
      ]
     },
     "execution_count": 128,
     "metadata": {},
     "output_type": "execute_result"
    }
   ],
   "source": [
    "arr.argsort()"
   ]
  },
  {
   "cell_type": "code",
   "execution_count": 130,
   "id": "6f2e7531-93f8-42f3-88d0-830dddcb8103",
   "metadata": {},
   "outputs": [
    {
     "data": {
      "text/plain": [
       "np.int64(0)"
      ]
     },
     "execution_count": 130,
     "metadata": {},
     "output_type": "execute_result"
    }
   ],
   "source": [
    "arr.argmin()\n",
    "#it will give sortest number index value \n",
    "# 0th number index"
   ]
  },
  {
   "cell_type": "code",
   "execution_count": 132,
   "id": "b86aa1cf-8014-461f-b952-44286c19f2b6",
   "metadata": {},
   "outputs": [
    {
     "data": {
      "text/plain": [
       "np.int64(8)"
      ]
     },
     "execution_count": 132,
     "metadata": {},
     "output_type": "execute_result"
    }
   ],
   "source": [
    "arr.argmax()\n",
    "#index 8 having maximum value "
   ]
  },
  {
   "cell_type": "code",
   "execution_count": 135,
   "id": "e6b41d2a-71dc-41cf-adf3-7ed07b88465b",
   "metadata": {},
   "outputs": [
    {
     "data": {
      "text/plain": [
       "array([2, 2, 2])"
      ]
     },
     "execution_count": 135,
     "metadata": {},
     "output_type": "execute_result"
    }
   ],
   "source": [
    "arr.argmax(axis=1)"
   ]
  },
  {
   "cell_type": "code",
   "execution_count": 136,
   "id": "a39939eb-4eef-414b-b639-a29531ecdaec",
   "metadata": {},
   "outputs": [
    {
     "data": {
      "text/plain": [
       "array([2, 2, 2])"
      ]
     },
     "execution_count": 136,
     "metadata": {},
     "output_type": "execute_result"
    }
   ],
   "source": [
    "arr.argmax(axis=0)"
   ]
  },
  {
   "cell_type": "code",
   "execution_count": 139,
   "id": "0e80ce77-e7e2-4d13-b913-305c6b9b02be",
   "metadata": {},
   "outputs": [
    {
     "data": {
      "text/plain": [
       "array([[0, 1, 2],\n",
       "       [0, 1, 2],\n",
       "       [0, 1, 2]])"
      ]
     },
     "execution_count": 139,
     "metadata": {},
     "output_type": "execute_result"
    }
   ],
   "source": [
    "arr.argsort(axis=1)\n",
    "#in already in sorted manner "
   ]
  },
  {
   "cell_type": "code",
   "execution_count": 140,
   "id": "a3ee8045-41a6-4460-a1b4-18c1b7b2d308",
   "metadata": {},
   "outputs": [
    {
     "data": {
      "text/plain": [
       "array([[0, 0, 0],\n",
       "       [1, 1, 1],\n",
       "       [2, 2, 2]])"
      ]
     },
     "execution_count": 140,
     "metadata": {},
     "output_type": "execute_result"
    }
   ],
   "source": [
    "arr.argsort(axis=0)"
   ]
  },
  {
   "cell_type": "code",
   "execution_count": 141,
   "id": "43f33240-60b3-450b-b31a-a5121b1ef242",
   "metadata": {},
   "outputs": [
    {
     "data": {
      "text/plain": [
       "array([1, 2, 3, 4, 5, 6, 7, 8, 9])"
      ]
     },
     "execution_count": 141,
     "metadata": {},
     "output_type": "execute_result"
    }
   ],
   "source": [
    "arr.ravel()"
   ]
  },
  {
   "cell_type": "code",
   "execution_count": 143,
   "id": "c86ea6ec-93eb-43f3-95ae-add7c276093c",
   "metadata": {},
   "outputs": [
    {
     "data": {
      "text/plain": [
       "array([[1],\n",
       "       [2],\n",
       "       [3],\n",
       "       [4],\n",
       "       [5],\n",
       "       [6],\n",
       "       [7],\n",
       "       [8],\n",
       "       [9]])"
      ]
     },
     "execution_count": 143,
     "metadata": {},
     "output_type": "execute_result"
    }
   ],
   "source": [
    "arr.reshape(9,1)\n",
    "# 9 rows and 1 columns "
   ]
  },
  {
   "cell_type": "markdown",
   "id": "9c0175f2-69c5-477f-b835-6d9cde1032a7",
   "metadata": {},
   "source": [
    "# Arithmatic operations "
   ]
  },
  {
   "cell_type": "code",
   "execution_count": 144,
   "id": "8417b4c7-c4ed-4be5-a511-b53fe7c129e7",
   "metadata": {},
   "outputs": [
    {
     "data": {
      "text/plain": [
       "array([[1, 2, 3],\n",
       "       [4, 5, 6],\n",
       "       [7, 8, 9]])"
      ]
     },
     "execution_count": 144,
     "metadata": {},
     "output_type": "execute_result"
    }
   ],
   "source": [
    "arr"
   ]
  },
  {
   "cell_type": "code",
   "execution_count": 145,
   "id": "d711a08a-ba90-4001-9000-765bed097e8b",
   "metadata": {},
   "outputs": [],
   "source": [
    "arr2=np.array([[1, 4, 3],\n",
    "       [2, 5, 7],\n",
    "       [7, 11, 9]])"
   ]
  },
  {
   "cell_type": "code",
   "execution_count": 147,
   "id": "31767b51-4fd4-46fb-bb71-296b9528e2f4",
   "metadata": {},
   "outputs": [
    {
     "data": {
      "text/plain": [
       "array([[ 2,  6,  6],\n",
       "       [ 6, 10, 13],\n",
       "       [14, 19, 18]])"
      ]
     },
     "execution_count": 147,
     "metadata": {},
     "output_type": "execute_result"
    }
   ],
   "source": [
    "arr+arr2\n",
    "#add two matrix or array "
   ]
  },
  {
   "cell_type": "code",
   "execution_count": 149,
   "id": "ec9a4c07-4afa-4054-9fd3-3cb25d5375a1",
   "metadata": {},
   "outputs": [
    {
     "data": {
      "text/plain": [
       "[223, 434, 22, 466]"
      ]
     },
     "execution_count": 149,
     "metadata": {},
     "output_type": "execute_result"
    }
   ],
   "source": [
    "# but we can't do it in python \n",
    "[223,434]+[22,466]\n",
    "#it will just concadinate the two list values "
   ]
  },
  {
   "cell_type": "code",
   "execution_count": 151,
   "id": "b110150c-714c-4df2-b7be-7777045a6dae",
   "metadata": {},
   "outputs": [
    {
     "data": {
      "text/plain": [
       "array([[ 1,  8,  9],\n",
       "       [ 8, 25, 42],\n",
       "       [49, 88, 81]])"
      ]
     },
     "execution_count": 151,
     "metadata": {},
     "output_type": "execute_result"
    }
   ],
   "source": [
    "arr*arr2\n",
    "#element wise multiplication "
   ]
  },
  {
   "cell_type": "code",
   "execution_count": 152,
   "id": "b743c35b-74a3-4e72-80c9-0ee01a3a7ef1",
   "metadata": {},
   "outputs": [
    {
     "data": {
      "text/plain": [
       "array([[1.        , 0.5       , 1.        ],\n",
       "       [2.        , 1.        , 0.85714286],\n",
       "       [1.        , 0.72727273, 1.        ]])"
      ]
     },
     "execution_count": 152,
     "metadata": {},
     "output_type": "execute_result"
    }
   ],
   "source": [
    "arr/arr2"
   ]
  },
  {
   "cell_type": "code",
   "execution_count": 154,
   "id": "1a89a24a-420f-41ad-b85b-28c7ad4432bf",
   "metadata": {},
   "outputs": [
    {
     "data": {
      "text/plain": [
       "array([[0, 2, 0],\n",
       "       [0, 0, 6],\n",
       "       [0, 8, 0]])"
      ]
     },
     "execution_count": 154,
     "metadata": {},
     "output_type": "execute_result"
    }
   ],
   "source": [
    "arr%arr2 \n",
    "#find out the modulo"
   ]
  },
  {
   "cell_type": "code",
   "execution_count": 156,
   "id": "5038aadc-0b15-4231-aaac-fcfd05227428",
   "metadata": {},
   "outputs": [
    {
     "data": {
      "text/plain": [
       "array([[1.        , 1.41421356, 1.73205081],\n",
       "       [2.        , 2.23606798, 2.44948974],\n",
       "       [2.64575131, 2.82842712, 3.        ]])"
      ]
     },
     "execution_count": 156,
     "metadata": {},
     "output_type": "execute_result"
    }
   ],
   "source": [
    "#square root of the elements present in an array \n",
    "np.sqrt(arr)"
   ]
  },
  {
   "cell_type": "code",
   "execution_count": 157,
   "id": "651fee14-efc0-408b-9aa1-962e5e1d8961",
   "metadata": {},
   "outputs": [
    {
     "data": {
      "text/plain": [
       "np.int64(45)"
      ]
     },
     "execution_count": 157,
     "metadata": {},
     "output_type": "execute_result"
    }
   ],
   "source": [
    "arr.sum()"
   ]
  },
  {
   "cell_type": "markdown",
   "id": "a65044c0-b6e6-4e9c-b244-dcc44ea1bf05",
   "metadata": {},
   "source": [
    "**Finding elements from the array (np.where())**"
   ]
  },
  {
   "cell_type": "code",
   "execution_count": 160,
   "id": "926c757f-2f31-4f4c-bc78-08de231d9831",
   "metadata": {},
   "outputs": [
    {
     "data": {
      "text/plain": [
       "array([[1, 2, 3],\n",
       "       [4, 5, 6],\n",
       "       [7, 8, 9]])"
      ]
     },
     "execution_count": 160,
     "metadata": {},
     "output_type": "execute_result"
    }
   ],
   "source": [
    "arr"
   ]
  },
  {
   "cell_type": "code",
   "execution_count": 164,
   "id": "5287c34d-37f6-44c7-982c-ea4d9ea9a06e",
   "metadata": {},
   "outputs": [
    {
     "data": {
      "text/plain": [
       "(array([2, 2]), array([1, 2]))"
      ]
     },
     "execution_count": 164,
     "metadata": {},
     "output_type": "execute_result"
    }
   ],
   "source": [
    "np.where(arr>7)\n",
    "#index value (row,col)"
   ]
  },
  {
   "cell_type": "code",
   "execution_count": 165,
   "id": "0d202f29-6bca-457a-a067-eb51304f2df0",
   "metadata": {},
   "outputs": [
    {
     "data": {
      "text/plain": [
       "tuple"
      ]
     },
     "execution_count": 165,
     "metadata": {},
     "output_type": "execute_result"
    }
   ],
   "source": [
    "type(np.where(arr>7))"
   ]
  },
  {
   "cell_type": "markdown",
   "id": "135774ce-9b07-45f9-be27-49ed7dbcd0d1",
   "metadata": {},
   "source": [
    "**count zero and non zeros**"
   ]
  },
  {
   "cell_type": "code",
   "execution_count": 166,
   "id": "3296d119-af0e-41f5-a7c0-153b6ec8579a",
   "metadata": {},
   "outputs": [
    {
     "data": {
      "text/plain": [
       "array([[1, 2, 3],\n",
       "       [4, 5, 6],\n",
       "       [7, 8, 9]])"
      ]
     },
     "execution_count": 166,
     "metadata": {},
     "output_type": "execute_result"
    }
   ],
   "source": [
    "arr"
   ]
  },
  {
   "cell_type": "code",
   "execution_count": 167,
   "id": "a9eee43d-73c1-4cd3-a113-5957035d9eb0",
   "metadata": {},
   "outputs": [
    {
     "data": {
      "text/plain": [
       "9"
      ]
     },
     "execution_count": 167,
     "metadata": {},
     "output_type": "execute_result"
    }
   ],
   "source": [
    "np.count_nonzero(arr)"
   ]
  },
  {
   "cell_type": "code",
   "execution_count": 169,
   "id": "29614faf-eef6-494e-8fe7-3910db0bc3a8",
   "metadata": {},
   "outputs": [
    {
     "data": {
      "text/plain": [
       "(array([0, 0, 0, 1, 1, 1, 2, 2, 2]), array([0, 1, 2, 0, 1, 2, 0, 1, 2]))"
      ]
     },
     "execution_count": 169,
     "metadata": {},
     "output_type": "execute_result"
    }
   ],
   "source": [
    "np.nonzero(arr)"
   ]
  },
  {
   "cell_type": "code",
   "execution_count": 171,
   "id": "cd747989-962c-4b9e-bc3e-1d82562ced17",
   "metadata": {},
   "outputs": [
    {
     "data": {
      "text/plain": [
       "(array([0, 0, 0, 1, 1, 2, 2, 2]), array([0, 1, 2, 0, 2, 0, 1, 2]))"
      ]
     },
     "execution_count": 171,
     "metadata": {},
     "output_type": "execute_result"
    }
   ],
   "source": [
    "#changes \n",
    "arr[1,1]=0\n",
    "np.nonzero(arr)\n",
    "#[1,1] has removed"
   ]
  },
  {
   "cell_type": "markdown",
   "id": "15df06ba-826a-40f5-b98e-3172263d0432",
   "metadata": {},
   "source": [
    "**Size compare**"
   ]
  },
  {
   "cell_type": "code",
   "execution_count": 172,
   "id": "dd31a124-d562-4e8e-a226-660beaf0f256",
   "metadata": {},
   "outputs": [],
   "source": [
    "import sys"
   ]
  },
  {
   "cell_type": "code",
   "execution_count": 177,
   "id": "fc00d012-be8a-489b-ae8d-e5a3ade313f5",
   "metadata": {},
   "outputs": [],
   "source": [
    "np_arr=np.array(py_arr)"
   ]
  },
  {
   "cell_type": "code",
   "execution_count": 176,
   "id": "b8190d5f-0bf5-47d1-bc0c-10cb13733927",
   "metadata": {},
   "outputs": [
    {
     "data": {
      "text/plain": [
       "112"
      ]
     },
     "execution_count": 176,
     "metadata": {},
     "output_type": "execute_result"
    }
   ],
   "source": [
    "sys.getsizeof(1) * len(py_arr)\n",
    "#one int size * length"
   ]
  },
  {
   "cell_type": "code",
   "execution_count": 179,
   "id": "c5344c27-fda5-40cf-8306-14701da93afb",
   "metadata": {},
   "outputs": [
    {
     "data": {
      "text/plain": [
       "32"
      ]
     },
     "execution_count": 179,
     "metadata": {},
     "output_type": "execute_result"
    }
   ],
   "source": [
    "np_arr.itemsize * np_arr.size\n",
    "#size of one ele * size of arr(length)"
   ]
  },
  {
   "cell_type": "markdown",
   "id": "72f4365b-d793-4154-a766-14b68e1eb488",
   "metadata": {},
   "source": [
    "**Array Convert list(.tolist)**"
   ]
  },
  {
   "cell_type": "code",
   "execution_count": 181,
   "id": "ea930781-db80-4b9b-a717-bde1844b56b6",
   "metadata": {},
   "outputs": [
    {
     "data": {
      "text/plain": [
       "[2, 3, 45, 33]"
      ]
     },
     "execution_count": 181,
     "metadata": {},
     "output_type": "execute_result"
    }
   ],
   "source": [
    "np_arr.tolist()"
   ]
  },
  {
   "cell_type": "code",
   "execution_count": null,
   "id": "c38f3678-e6de-41cd-abc7-bdec731e751b",
   "metadata": {},
   "outputs": [],
   "source": []
  }
 ],
 "metadata": {
  "kernelspec": {
   "display_name": "Python 3 (ipykernel)",
   "language": "python",
   "name": "python3"
  },
  "language_info": {
   "codemirror_mode": {
    "name": "ipython",
    "version": 3
   },
   "file_extension": ".py",
   "mimetype": "text/x-python",
   "name": "python",
   "nbconvert_exporter": "python",
   "pygments_lexer": "ipython3",
   "version": "3.12.4"
  }
 },
 "nbformat": 4,
 "nbformat_minor": 5
}
